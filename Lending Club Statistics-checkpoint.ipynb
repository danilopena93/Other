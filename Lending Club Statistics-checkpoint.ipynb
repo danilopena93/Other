{
 "cells": [
  {
   "cell_type": "code",
   "execution_count": 1,
   "metadata": {
    "collapsed": false
   },
   "outputs": [
    {
     "name": "stdout",
     "output_type": "stream",
     "text": [
      "        id  member_id  loan_amnt  funded_amnt  funded_amnt_inv        term  \\\n",
      "0  1077501  1296599.0     5000.0       5000.0           4975.0   36 months   \n",
      "1  1077430  1314167.0     2500.0       2500.0           2500.0   60 months   \n",
      "2  1077175  1313524.0     2400.0       2400.0           2400.0   36 months   \n",
      "3  1076863  1277178.0    10000.0      10000.0          10000.0   36 months   \n",
      "4  1075358  1311748.0     3000.0       3000.0           3000.0   60 months   \n",
      "\n",
      "  int_rate  installment grade sub_grade    ...    last_pymnt_amnt  \\\n",
      "0   10.65%       162.87     B        B2    ...             171.62   \n",
      "1   15.27%        59.83     C        C4    ...             119.66   \n",
      "2   15.96%        84.33     C        C5    ...             649.91   \n",
      "3   13.49%       339.31     C        C1    ...             357.48   \n",
      "4   12.69%        67.79     B        B5    ...              67.79   \n",
      "\n",
      "  last_credit_pull_d collections_12_mths_ex_med  policy_code application_type  \\\n",
      "0           Dec-2016                        0.0          1.0       INDIVIDUAL   \n",
      "1           Oct-2016                        0.0          1.0       INDIVIDUAL   \n",
      "2           Dec-2016                        0.0          1.0       INDIVIDUAL   \n",
      "3           Apr-2016                        0.0          1.0       INDIVIDUAL   \n",
      "4           Dec-2016                        0.0          1.0       INDIVIDUAL   \n",
      "\n",
      "  acc_now_delinq chargeoff_within_12_mths delinq_amnt pub_rec_bankruptcies  \\\n",
      "0            0.0                      0.0         0.0                  0.0   \n",
      "1            0.0                      0.0         0.0                  0.0   \n",
      "2            0.0                      0.0         0.0                  0.0   \n",
      "3            0.0                      0.0         0.0                  0.0   \n",
      "4            0.0                      0.0         0.0                  0.0   \n",
      "\n",
      "  tax_liens  \n",
      "0       0.0  \n",
      "1       0.0  \n",
      "2       0.0  \n",
      "3       0.0  \n",
      "4       0.0  \n",
      "\n",
      "[5 rows x 52 columns]\n"
     ]
    },
    {
     "name": "stderr",
     "output_type": "stream",
     "text": [
      "C:\\Users\\danil\\AppData\\Local\\Continuum\\Anaconda3\\lib\\site-packages\\IPython\\core\\interactiveshell.py:2717: DtypeWarning: Columns (0,47) have mixed types. Specify dtype option on import or set low_memory=False.\n",
      "  interactivity=interactivity, compiler=compiler, result=result)\n"
     ]
    }
   ],
   "source": [
    "import pandas as pd\n",
    "loans_2007 = pd.read_csv('C:/Users/danil/Downloads/Data/LoanStats3a.csv/LoanStats3a.csv',skiprows=1)\n",
    "#myDirname = os.path.normpath(\"c:/aDirname/\")\n",
    "\n",
    "#trainFile = \"C:/Users/danil/Downloads/Data/LoanStats3a.csv/LoanStats3a.csv\"\n",
    "\n",
    "#pwd = os.getcwd()\n",
    "#os.chdir(os.path.dirname(trainFile))\n",
    "#trainData = pd.read_csv(os.path.basename(trainFile))\n",
    "#os.chdir(pwd)\n",
    "#print(data.columns)\n",
    "#print(data.isnull())\n",
    "half_count = len(loans_2007) / 2\n",
    "loans_2007 = loans_2007.dropna(thresh=half_count, axis=1)\n",
    "loans_2007 = loans_2007.drop(['desc', 'url'],axis=1)\n",
    "print(loans_2007.head(5))"
   ]
  },
  {
   "cell_type": "code",
   "execution_count": 2,
   "metadata": {
    "collapsed": false
   },
   "outputs": [],
   "source": [
    "#drop data that leaks into the future, is redundant \n",
    "drop = ['id', 'member_id','funded_amnt','funded_amnt_inv','grade','sub_grade',\n",
    "        'emp_title','issue_d']\n",
    "loans_2007 = loans_2007.drop(drop, axis=1)\n",
    "drop = ['zip_code','out_prncp','out_prncp_inv','total_pymnt','total_pymnt_inv','total_rec_prncp']\n",
    "loans_2007 = loans_2007.drop(drop, axis=1)\n",
    "drop = ['total_rec_int','total_rec_late_fee','recoveries','collection_recovery_fee','last_pymnt_d',\n",
    "        'last_pymnt_d','last_pymnt_amnt']\n",
    "loans_2007 = loans_2007.drop(drop, axis=1)"
   ]
  },
  {
   "cell_type": "code",
   "execution_count": 3,
   "metadata": {
    "collapsed": true
   },
   "outputs": [],
   "source": [
    "#binary classification for target column\n",
    "loans_2007 = loans_2007[(loans_2007['loan_status'] == 'Fully Paid') | (loans_2007['loan_status'] == 'Charged Off')]\n",
    "values = ['Fully Paid','Charged Off']\n",
    "replace = [1,0]\n",
    "loans_2007['loan_status'].replace(values, replace, inplace = True)"
   ]
  },
  {
   "cell_type": "code",
   "execution_count": 4,
   "metadata": {
    "collapsed": true
   },
   "outputs": [],
   "source": [
    "#drop columns with 1 unique value\n",
    "drop_columns = []\n",
    "for i in loans_2007.columns:\n",
    "    non_null = loans_2007[i].dropna()\n",
    "    unique = non_null.unique()\n",
    "    num_unique = len(unique)\n",
    "    if num_unique == 1:\n",
    "        drop_columns.append(i)\n",
    "loans_2007 = loans_2007.drop(drop_columns,axis = 1)"
   ]
  },
  {
   "cell_type": "code",
   "execution_count": 5,
   "metadata": {
    "collapsed": false
   },
   "outputs": [
    {
     "name": "stdout",
     "output_type": "stream",
     "text": [
      "loan_amnt                 0\n",
      "term                      0\n",
      "int_rate                  0\n",
      "installment               0\n",
      "emp_length                0\n",
      "home_ownership            0\n",
      "annual_inc                0\n",
      "verification_status       0\n",
      "loan_status               0\n",
      "purpose                   0\n",
      "title                    10\n",
      "addr_state                0\n",
      "dti                       0\n",
      "delinq_2yrs               0\n",
      "earliest_cr_line          0\n",
      "inq_last_6mths            0\n",
      "open_acc                  0\n",
      "pub_rec                   0\n",
      "revol_bal                 0\n",
      "revol_util               50\n",
      "total_acc                 0\n",
      "last_credit_pull_d        2\n",
      "pub_rec_bankruptcies    697\n",
      "dtype: int64\n"
     ]
    }
   ],
   "source": [
    "#count null rows \n",
    "null_counts = loans_2007.isnull().sum()\n",
    "print(null_counts)\n",
    "loans_2007 = loans_2007.drop('pub_rec_bankruptcies',axis = 1)\n",
    "#minimnuze dropping rows by first taking out pub_rec_bankrupties \n",
    "loans_2007 = loans_2007.dropna()"
   ]
  },
  {
   "cell_type": "code",
   "execution_count": 8,
   "metadata": {
    "collapsed": false
   },
   "outputs": [
    {
     "name": "stdout",
     "output_type": "stream",
     "text": [
      "object     11\n",
      "float64    10\n",
      "int64       1\n",
      "dtype: int64\n"
     ]
    }
   ],
   "source": [
    "#find the text columns\n",
    "print(loans_2007.dtypes.value_counts())"
   ]
  },
  {
   "cell_type": "code",
   "execution_count": 9,
   "metadata": {
    "collapsed": false
   },
   "outputs": [
    {
     "name": "stdout",
     "output_type": "stream",
     "text": [
      "             term int_rate emp_length home_ownership verification_status  \\\n",
      "0       36 months   10.65%  10+ years           RENT            Verified   \n",
      "1       60 months   15.27%   < 1 year           RENT     Source Verified   \n",
      "2       36 months   15.96%  10+ years           RENT        Not Verified   \n",
      "3       36 months   13.49%  10+ years           RENT     Source Verified   \n",
      "5       36 months    7.90%    3 years           RENT     Source Verified   \n",
      "6       60 months   15.96%    8 years           RENT        Not Verified   \n",
      "7       36 months   18.64%    9 years           RENT     Source Verified   \n",
      "8       60 months   21.28%    4 years            OWN     Source Verified   \n",
      "9       60 months   12.69%   < 1 year           RENT            Verified   \n",
      "10      60 months   14.65%    5 years            OWN        Not Verified   \n",
      "11      36 months   12.69%  10+ years            OWN     Source Verified   \n",
      "12      36 months   13.49%   < 1 year           RENT     Source Verified   \n",
      "13      36 months    9.91%    3 years           RENT     Source Verified   \n",
      "14      36 months   10.65%    3 years           RENT     Source Verified   \n",
      "15      36 months   16.29%   < 1 year           RENT        Not Verified   \n",
      "16      36 months   15.27%    4 years           RENT        Not Verified   \n",
      "17      36 months    6.03%  10+ years       MORTGAGE        Not Verified   \n",
      "18      36 months   11.71%     1 year       MORTGAGE            Verified   \n",
      "19      36 months    6.03%    6 years           RENT        Not Verified   \n",
      "20      60 months   15.27%    3 years           RENT            Verified   \n",
      "21      36 months   12.42%  10+ years           RENT            Verified   \n",
      "22      36 months   11.71%  10+ years            OWN     Source Verified   \n",
      "23      36 months   11.71%    5 years           RENT        Not Verified   \n",
      "24      36 months   11.71%     1 year           RENT        Not Verified   \n",
      "25      36 months    9.91%    2 years       MORTGAGE            Verified   \n",
      "26      36 months   14.27%    9 years           RENT        Not Verified   \n",
      "27      60 months   16.77%    2 years           RENT        Not Verified   \n",
      "28      36 months   11.71%  10+ years       MORTGAGE        Not Verified   \n",
      "29      36 months   11.71%   < 1 year           RENT     Source Verified   \n",
      "30      36 months    7.51%    7 years       MORTGAGE     Source Verified   \n",
      "...           ...      ...        ...            ...                 ...   \n",
      "39756   36 months   12.49%    9 years            OWN        Not Verified   \n",
      "39757   36 months   13.43%    6 years       MORTGAGE        Not Verified   \n",
      "39758   36 months   11.54%   < 1 year           RENT        Not Verified   \n",
      "39759   36 months   10.59%    3 years           RENT        Not Verified   \n",
      "39760   36 months   15.96%     1 year           RENT        Not Verified   \n",
      "39761   36 months    9.01%     1 year       MORTGAGE        Not Verified   \n",
      "39762   36 months    9.96%   < 1 year           RENT        Not Verified   \n",
      "39763   36 months    7.43%    8 years       MORTGAGE        Not Verified   \n",
      "39764   36 months    7.43%    7 years       MORTGAGE        Not Verified   \n",
      "39765   36 months   10.59%    2 years           RENT        Not Verified   \n",
      "39766   36 months   10.28%   < 1 year           RENT        Not Verified   \n",
      "39767   36 months    9.01%     1 year           RENT        Not Verified   \n",
      "39768   36 months    8.38%    4 years           RENT        Not Verified   \n",
      "39769   36 months    7.75%   < 1 year           RENT        Not Verified   \n",
      "39770   36 months    8.38%    7 years       MORTGAGE        Not Verified   \n",
      "39771   36 months   11.22%     1 year            OWN        Not Verified   \n",
      "39772   36 months   10.28%    2 years       MORTGAGE        Not Verified   \n",
      "39773   36 months    8.70%   < 1 year       MORTGAGE        Not Verified   \n",
      "39774   36 months    7.43%    8 years       MORTGAGE        Not Verified   \n",
      "39775   36 months    8.07%   < 1 year       MORTGAGE        Not Verified   \n",
      "39776   36 months    9.33%    2 years       MORTGAGE        Not Verified   \n",
      "39777   36 months    9.96%    4 years       MORTGAGE        Not Verified   \n",
      "39778   36 months   11.22%   < 1 year            OWN        Not Verified   \n",
      "39779   36 months    7.43%     1 year            OWN        Not Verified   \n",
      "39780   36 months    8.70%    5 years       MORTGAGE        Not Verified   \n",
      "39781   36 months    8.07%    4 years       MORTGAGE        Not Verified   \n",
      "39782   36 months   10.28%    3 years           RENT        Not Verified   \n",
      "39783   36 months    8.07%   < 1 year       MORTGAGE        Not Verified   \n",
      "39784   36 months    7.43%   < 1 year       MORTGAGE        Not Verified   \n",
      "39785   36 months   13.75%   < 1 year            OWN        Not Verified   \n",
      "\n",
      "                  purpose                                    title addr_state  \\\n",
      "0             credit_card                                 Computer         AZ   \n",
      "1                     car                                     bike         GA   \n",
      "2          small_business                     real estate business         IL   \n",
      "3                   other                                 personel         CA   \n",
      "5                 wedding    My wedding loan I promise to pay back         AZ   \n",
      "6      debt_consolidation                                     Loan         NC   \n",
      "7                     car                          Car Downpayment         CA   \n",
      "8          small_business     Expand Business & Buy Debt Portfolio         CA   \n",
      "9                   other              Building my credit history.         TX   \n",
      "10     debt_consolidation               High intrest Consolidation         AZ   \n",
      "11     debt_consolidation                            Consolidation         CA   \n",
      "12     debt_consolidation                                  freedom         VA   \n",
      "13            credit_card                            citicard fund         IL   \n",
      "14                  other                               Other Loan         CA   \n",
      "15     debt_consolidation                  Debt Consolidation Loan         MO   \n",
      "16       home_improvement                                     Home         CA   \n",
      "17         major_purchase                                  Holiday         CT   \n",
      "18                medical                                  Medical         UT   \n",
      "19     debt_consolidation      lowerratemeanseasiertogetoutofdebt!         CA   \n",
      "20     debt_consolidation                Freedom From Credit Cards         TX   \n",
      "21     debt_consolidation                             Debt Cleanup         FL   \n",
      "22            credit_card                         Credit Card Loan         TX   \n",
      "23     debt_consolidation                       Debt Consolidation         CA   \n",
      "24         major_purchase                                     cash         CA   \n",
      "25            credit_card                No more credit card debt!         IL   \n",
      "26     debt_consolidation                            consolidation         NY   \n",
      "27                  other                                    Other         PA   \n",
      "28     debt_consolidation                       Debt Consolidation         FL   \n",
      "29            credit_card               Credit card repayment loan         MN   \n",
      "30     debt_consolidation                       Debt Consolidation         NY   \n",
      "...                   ...                                      ...        ...   \n",
      "39756         credit_card                 refinancing credit cards         FL   \n",
      "39757         credit_card                              refinancing         FL   \n",
      "39758         credit_card                   Bank of America- Blah!         ME   \n",
      "39759      small_business               Invest in Zensah Inventory         FL   \n",
      "39760  debt_consolidation                            Consolidation         MA   \n",
      "39761               other                             ..and a Pony         NY   \n",
      "39762         educational  Starving student needs means of living.         FL   \n",
      "39763    home_improvement                              New kitchen         GA   \n",
      "39764            vacation                     Mortgage Pre-Payment         MA   \n",
      "39765      small_business           Recycling Plant in East Africa         NY   \n",
      "39766      small_business       Web Design Business Expansion Loan         CO   \n",
      "39767         credit_card                             Credit Cards         VA   \n",
      "39768            vacation                                   Europe         IN   \n",
      "39769         educational               Help with college expenses         GA   \n",
      "39770         credit_card                Refinance for better rate         IN   \n",
      "39771         credit_card                     Stupid credit cards!         GA   \n",
      "39772    home_improvement        Roofdeck for my new NYC apartment         NY   \n",
      "39773      small_business                        Home Based Bakery         MA   \n",
      "39774  debt_consolidation                                  My Loan         MA   \n",
      "39775    home_improvement                     remodelin my kitchen         WI   \n",
      "39776    home_improvement                     home improvment loan         WI   \n",
      "39777  debt_consolidation                                 Tito5000         FL   \n",
      "39778         credit_card                   P's Family Credit Loan         WI   \n",
      "39779         credit_card                      My Credit Card Loan         WI   \n",
      "39780         credit_card                  Reduce Credit Card Debt         CO   \n",
      "39781    home_improvement                         Home Improvement         CO   \n",
      "39782         credit_card                Retiring credit card debt         NC   \n",
      "39783  debt_consolidation                   MBA Loan Consolidation         MA   \n",
      "39784               other                                 JAL Loan         MD   \n",
      "39785  debt_consolidation                       Consolidation Loan         MA   \n",
      "\n",
      "      earliest_cr_line revol_util last_credit_pull_d  \n",
      "0             Jan-1985      83.7%           Dec-2016  \n",
      "1             Apr-1999       9.4%           Oct-2016  \n",
      "2             Nov-2001      98.5%           Dec-2016  \n",
      "3             Feb-1996        21%           Apr-2016  \n",
      "5             Nov-2004      28.3%           Jan-2016  \n",
      "6             Jul-2005      85.6%           Sep-2016  \n",
      "7             Jan-2007      87.5%           Dec-2014  \n",
      "8             Apr-2004      32.6%           Oct-2016  \n",
      "9             Sep-2004      36.5%           Dec-2016  \n",
      "10            Jan-1998      20.6%           Dec-2015  \n",
      "11            Oct-1989      67.1%           Aug-2013  \n",
      "12            Apr-2004      91.7%           Oct-2016  \n",
      "13            Jul-2003      43.1%           Dec-2016  \n",
      "14            May-1991      55.5%           Oct-2016  \n",
      "15            Sep-2007      81.5%           Dec-2016  \n",
      "16            Oct-1998      70.2%           Apr-2015  \n",
      "17            Aug-1993        16%           May-2014  \n",
      "18            Oct-2003     37.73%           Jul-2015  \n",
      "19            Jan-2001      23.1%           Feb-2016  \n",
      "20            Nov-1997      85.6%           Jun-2016  \n",
      "21            Feb-1983      90.3%           Dec-2016  \n",
      "22            Jul-1985      82.4%           Dec-2016  \n",
      "23            Apr-2003      91.8%           Mar-2014  \n",
      "24            Jun-2001      29.7%           Oct-2016  \n",
      "25            Feb-2002      93.9%           Sep-2012  \n",
      "26            Oct-2003      57.6%           Dec-2016  \n",
      "27            Oct-2003      59.5%           Oct-2016  \n",
      "28            Aug-1984      37.7%           Dec-2016  \n",
      "29            Nov-2006      59.1%           Jan-2015  \n",
      "30            Dec-1987      86.9%           Dec-2014  \n",
      "...                ...        ...                ...  \n",
      "39756         Apr-1995      93.4%           Jul-2010  \n",
      "39757         Jan-1996      74.1%           Dec-2016  \n",
      "39758         May-2004      75.8%           Aug-2016  \n",
      "39759         Feb-1969       8.1%           Jul-2007  \n",
      "39760         Aug-2003      92.3%           Jul-2010  \n",
      "39761         Apr-2003      36.6%           Jul-2010  \n",
      "39762         Dec-2002      41.1%           Dec-2016  \n",
      "39763         Dec-1987      19.5%           Jun-2007  \n",
      "39764         Jul-2000       6.8%           Jun-2007  \n",
      "39765         Jan-2000      23.3%           Jun-2010  \n",
      "39766         Sep-2003      54.4%           Oct-2010  \n",
      "39767         Jan-1999      37.6%           Jul-2010  \n",
      "39768         Jun-1995      23.9%           Jun-2007  \n",
      "39769         Mar-1989      16.5%           Dec-2013  \n",
      "39770         Feb-1992      14.4%           Jul-2010  \n",
      "39771         Apr-1993      47.1%           Oct-2012  \n",
      "39772         Feb-1997         0%           Feb-2013  \n",
      "39773         Sep-2000       7.8%           Jul-2010  \n",
      "39774         Oct-1997      16.9%           Jun-2010  \n",
      "39775         Jun-1996      26.3%           Jun-2007  \n",
      "39776         Feb-1995      39.2%           Jun-2007  \n",
      "39777         Aug-1995      48.6%           Jun-2010  \n",
      "39778         Jul-1996      16.1%           Jun-2007  \n",
      "39779         Oct-1997       0.6%           Jun-2007  \n",
      "39780         May-1994        23%           Nov-2014  \n",
      "39781         Nov-1990      13.1%           Jun-2010  \n",
      "39782         Dec-1986      26.9%           Jul-2010  \n",
      "39783         Oct-1998      19.4%           Jun-2007  \n",
      "39784         Nov-1988       0.7%           Jun-2007  \n",
      "39785         Oct-2003      51.5%           Jun-2010  \n",
      "\n",
      "[39685 rows x 11 columns]\n"
     ]
    }
   ],
   "source": [
    "object_columns_df = loans_2007.select_dtypes(include = ['object'])\n",
    "print(object_columns_df)"
   ]
  },
  {
   "cell_type": "code",
   "execution_count": 10,
   "metadata": {
    "collapsed": false,
    "scrolled": true
   },
   "outputs": [
    {
     "name": "stdout",
     "output_type": "stream",
     "text": [
      "RENT        18860\n",
      "MORTGAGE    17671\n",
      "OWN          3055\n",
      "OTHER          96\n",
      "NONE            3\n",
      "Name: home_ownership, dtype: int64\n",
      "Not Verified       16887\n",
      "Verified           12809\n",
      "Source Verified     9989\n",
      "Name: verification_status, dtype: int64\n",
      "10+ years    8886\n",
      "< 1 year     4573\n",
      "2 years      4387\n",
      "3 years      4090\n",
      "4 years      3429\n",
      "5 years      3279\n",
      "1 year       3236\n",
      "6 years      2224\n",
      "7 years      1770\n",
      "8 years      1480\n",
      "9 years      1259\n",
      "n/a          1072\n",
      "Name: emp_length, dtype: int64\n",
      " 36 months    29041\n",
      " 60 months    10644\n",
      "Name: term, dtype: int64\n",
      "CA    7091\n",
      "NY    3811\n",
      "FL    2866\n",
      "TX    2727\n",
      "NJ    1845\n",
      "IL    1523\n",
      "PA    1514\n",
      "VA    1406\n",
      "GA    1398\n",
      "MA    1342\n",
      "OH    1221\n",
      "MD    1052\n",
      "AZ     877\n",
      "WA     840\n",
      "CO     790\n",
      "NC     786\n",
      "CT     753\n",
      "MI     722\n",
      "MO     685\n",
      "MN     613\n",
      "NV     497\n",
      "SC     472\n",
      "WI     458\n",
      "AL     449\n",
      "OR     448\n",
      "LA     436\n",
      "KY     327\n",
      "OK     299\n",
      "KS     271\n",
      "UT     258\n",
      "AR     245\n",
      "DC     212\n",
      "RI     199\n",
      "NM     189\n",
      "WV     177\n",
      "HI     173\n",
      "NH     172\n",
      "DE     113\n",
      "MT      85\n",
      "WY      83\n",
      "AK      79\n",
      "SD      63\n",
      "VT      54\n",
      "MS      19\n",
      "TN      17\n",
      "IN       9\n",
      "ID       6\n",
      "IA       5\n",
      "NE       5\n",
      "ME       3\n",
      "Name: addr_state, dtype: int64\n"
     ]
    }
   ],
   "source": [
    "#fist 5 categorical could be numerical \n",
    "cols = ['home_ownership', 'verification_status', 'emp_length', 'term', 'addr_state']\n",
    "for i in cols:\n",
    "    print(loans_2007[i].value_counts())"
   ]
  },
  {
   "cell_type": "code",
   "execution_count": 11,
   "metadata": {
    "collapsed": false,
    "scrolled": true
   },
   "outputs": [
    {
     "name": "stdout",
     "output_type": "stream",
     "text": [
      "debt_consolidation    18636\n",
      "credit_card            5129\n",
      "other                  3982\n",
      "home_improvement       2979\n",
      "major_purchase         2181\n",
      "small_business         1823\n",
      "car                    1549\n",
      "wedding                 947\n",
      "medical                 693\n",
      "moving                  581\n",
      "house                   382\n",
      "vacation                380\n",
      "educational             320\n",
      "renewable_energy        103\n",
      "Name: purpose, dtype: int64 Debt Consolidation                       2185\n",
      "Debt Consolidation Loan                  1727\n",
      "Personal Loan                             661\n",
      "Consolidation                             514\n",
      "debt consolidation                        507\n",
      "Home Improvement                          357\n",
      "Credit Card Consolidation                 357\n",
      "Debt consolidation                        334\n",
      "Small Business Loan                       328\n",
      "Credit Card Loan                          318\n",
      "Personal                                  308\n",
      "Consolidation Loan                        256\n",
      "Home Improvement Loan                     248\n",
      "personal loan                             234\n",
      "personal                                  220\n",
      "Loan                                      213\n",
      "Wedding Loan                              209\n",
      "consolidation                             205\n",
      "Car Loan                                  204\n",
      "Other Loan                                192\n",
      "Credit Card Payoff                        155\n",
      "Wedding                                   154\n",
      "Major Purchase Loan                       144\n",
      "Credit Card Refinance                     144\n",
      "Consolidate                               127\n",
      "Medical                                   122\n",
      "Credit Card                               118\n",
      "home improvement                          112\n",
      "My Loan                                    94\n",
      "Credit Cards                               93\n",
      "                                         ... \n",
      "credit card  debt retire                    1\n",
      "Summer class                                1\n",
      "Jenny's purchase loan                       1\n",
      "Excellent credit                            1\n",
      "Spain/France Loan                           1\n",
      "Debt Consilidation & Vacation               1\n",
      "DC State move                               1\n",
      "ITs it                                      1\n",
      "Going to start grad school!                 1\n",
      "Closing the Door on Grad School Debt        1\n",
      "Personal Loan1                              1\n",
      "Jessie's loan                               1\n",
      "Debt Consolidation 10/19/2010               1\n",
      "Bath remodel                                1\n",
      "Spread costs over time                      1\n",
      "coffee house                                1\n",
      "Manhattan Move                              1\n",
      "BACK UP PLAN                                1\n",
      "Aug10 CRL                                   1\n",
      "Investment                                  1\n",
      "canvasart                                   1\n",
      "Better Rate for Credit Cards                1\n",
      "SchuOutDebt                                 1\n",
      "Funds for new Apt. (moving)                 1\n",
      "no more cap1                                1\n",
      "Jeep Repair Loan                            1\n",
      "Shop/Toy Garage                             1\n",
      "Trying to make life easier                  1\n",
      "Dental, Tuition and Debt                    1\n",
      "Mom said, you buy it, you pay for it!       1\n",
      "Name: title, dtype: int64\n"
     ]
    }
   ],
   "source": [
    "#these columns have overlapaping information - keep purpose\n",
    "print(loans_2007['purpose'].value_counts(),loans_2007['title'].value_counts())"
   ]
  },
  {
   "cell_type": "code",
   "execution_count": 22,
   "metadata": {
    "collapsed": true
   },
   "outputs": [],
   "source": [
    "loans = loans_2007\n",
    "#map length of employment\n",
    "mapping_dict = {\n",
    "    \"emp_length\": {\n",
    "        \"10+ years\": 10,\n",
    "        \"9 years\": 9,\n",
    "        \"8 years\": 8,\n",
    "        \"7 years\": 7,\n",
    "        \"6 years\": 6,\n",
    "        \"5 years\": 5,\n",
    "        \"4 years\": 4,\n",
    "        \"3 years\": 3,\n",
    "        \"2 years\": 2,\n",
    "        \"1 year\": 1,\n",
    "        \"< 1 year\": 0,\n",
    "        \"n/a\": 0\n",
    "    }\n",
    "}\n",
    "cols = ['last_credit_pull_d','addr_state','title','earliest_cr_line']\n",
    "loans = loans.drop(cols,axis=1)\n",
    "loans[\"int_rate\"] = loans[\"int_rate\"].str.rstrip(\"%\").astype(\"float\")\n",
    "loans[\"revol_util\"] = loans[\"revol_util\"].str.rstrip(\"%\").astype(\"float\")\n",
    "loans = loans.replace(mapping_dict)"
   ]
  },
  {
   "cell_type": "code",
   "execution_count": 23,
   "metadata": {
    "collapsed": true
   },
   "outputs": [],
   "source": [
    "#create dummy variables for columns\n",
    "cols= ['home_ownership','verification_status','purpose','term']\n",
    "dummy_df = pd.get_dummies(loans[cols])\n",
    "loans = pd.concat([loans,dummy_df],axis=1)\n",
    "loans = loans.drop(cols,axis=1)"
   ]
  },
  {
   "cell_type": "code",
   "execution_count": 24,
   "metadata": {
    "collapsed": false,
    "scrolled": true
   },
   "outputs": [
    {
     "name": "stdout",
     "output_type": "stream",
     "text": [
      "<class 'pandas.core.frame.DataFrame'>\n",
      "Int64Index: 39685 entries, 0 to 39785\n",
      "Data columns (total 38 columns):\n",
      "loan_amnt                              39685 non-null float64\n",
      "int_rate                               39685 non-null float64\n",
      "installment                            39685 non-null float64\n",
      "emp_length                             39685 non-null int64\n",
      "annual_inc                             39685 non-null float64\n",
      "loan_status                            39685 non-null int64\n",
      "dti                                    39685 non-null float64\n",
      "delinq_2yrs                            39685 non-null float64\n",
      "inq_last_6mths                         39685 non-null float64\n",
      "open_acc                               39685 non-null float64\n",
      "pub_rec                                39685 non-null float64\n",
      "revol_bal                              39685 non-null float64\n",
      "revol_util                             39685 non-null float64\n",
      "total_acc                              39685 non-null float64\n",
      "home_ownership_MORTGAGE                39685 non-null float64\n",
      "home_ownership_NONE                    39685 non-null float64\n",
      "home_ownership_OTHER                   39685 non-null float64\n",
      "home_ownership_OWN                     39685 non-null float64\n",
      "home_ownership_RENT                    39685 non-null float64\n",
      "verification_status_Not Verified       39685 non-null float64\n",
      "verification_status_Source Verified    39685 non-null float64\n",
      "verification_status_Verified           39685 non-null float64\n",
      "purpose_car                            39685 non-null float64\n",
      "purpose_credit_card                    39685 non-null float64\n",
      "purpose_debt_consolidation             39685 non-null float64\n",
      "purpose_educational                    39685 non-null float64\n",
      "purpose_home_improvement               39685 non-null float64\n",
      "purpose_house                          39685 non-null float64\n",
      "purpose_major_purchase                 39685 non-null float64\n",
      "purpose_medical                        39685 non-null float64\n",
      "purpose_moving                         39685 non-null float64\n",
      "purpose_other                          39685 non-null float64\n",
      "purpose_renewable_energy               39685 non-null float64\n",
      "purpose_small_business                 39685 non-null float64\n",
      "purpose_vacation                       39685 non-null float64\n",
      "purpose_wedding                        39685 non-null float64\n",
      "term_ 36 months                        39685 non-null float64\n",
      "term_ 60 months                        39685 non-null float64\n",
      "dtypes: float64(36), int64(2)\n",
      "memory usage: 11.8 MB\n",
      "None\n"
     ]
    }
   ],
   "source": [
    "print(loans.info())"
   ]
  },
  {
   "cell_type": "code",
   "execution_count": 37,
   "metadata": {
    "collapsed": true
   },
   "outputs": [],
   "source": [
    "# from sklearn.preprocessing import StandardScaler\n",
    "# X_std = StandardScaler().fit_transform(X)"
   ]
  },
  {
   "cell_type": "code",
   "execution_count": 48,
   "metadata": {
    "collapsed": false
   },
   "outputs": [
    {
     "data": {
      "image/png": "[encoded data removed]",
      "text/plain": [
       "<matplotlib.figure.Figure at 0x243f427d400>"
      ]
     },
     "metadata": {},
     "output_type": "display_data"
    }
   ],
   "source": [
    "from sklearn.preprocessing import StandardScaler\n",
    "from sklearn.decomposition import PCA\n",
    "import matplotlib.pyplot as plt\n",
    "scaler = StandardScaler()\n",
    "Y = loans['loan_status']\n",
    "X = loans.drop('loan_status',axis=1)\n",
    "X = scaler.fit_transform(X)\n",
    "\n",
    "pca = PCA()\n",
    "pca.fit_transform(X)\n",
    "\n",
    "covariance=pca.get_covariance()\n",
    "\n",
    "explained_variance=pca.explained_variance_\n",
    "\n",
    "with plt.style.context('dark_background'):\n",
    "    plt.figure(figsize=(6, 4))\n",
    "    \n",
    "    plt.bar(range(37), explained_variance, alpha=0.5, align='center',\n",
    "            label='individual explained variance')\n",
    "    plt.ylabel('Explained variance ratio')\n",
    "    plt.xlabel('Principal components')\n",
    "    plt.legend(loc='best')\n",
    "    plt.tight_layout()\n",
    "plt.show()\n",
    "#take out last 7"
   ]
  },
  {
   "cell_type": "code",
   "execution_count": 51,
   "metadata": {
    "collapsed": false
   },
   "outputs": [
    {
     "data": {
      "image/png": "[encoded data removed]",
      "text/plain": [
       "<matplotlib.figure.Figure at 0x243f20fa128>"
      ]
     },
     "metadata": {},
     "output_type": "display_data"
    }
   ],
   "source": [
    "N=loans.values\n",
    "pca = PCA(n_components=2)\n",
    "x = pca.fit_transform(N)\n",
    "plt.figure(figsize = (5,5))\n",
    "plt.scatter(x[:,0],x[:,1])\n",
    "plt.show()"
   ]
  },
  {
   "cell_type": "code",
   "execution_count": 53,
   "metadata": {
    "collapsed": false
   },
   "outputs": [
    {
     "data": {
      "image/png": "[encoded data removed]",
      "text/plain": [
       "<matplotlib.figure.Figure at 0x243efe78358>"
      ]
     },
     "metadata": {},
     "output_type": "display_data"
    }
   ],
   "source": [
    "from sklearn.cluster import KMeans\n",
    "kmeans = KMeans(n_clusters=2, random_state=5)\n",
    "X_clustered = kmeans.fit_predict(N)\n",
    "\n",
    "LABEL_COLOR_MAP = {0 : 'g',\n",
    "                   1 : 'y'\n",
    "                  }\n",
    "\n",
    "label_color = [LABEL_COLOR_MAP[l] for l in X_clustered]\n",
    "plt.figure(figsize = (5,5))\n",
    "plt.scatter(x[:,0],x[:,1], c= label_color)\n",
    "plt.show()"
   ]
  },
  {
   "cell_type": "code",
   "execution_count": 56,
   "metadata": {
    "collapsed": false
   },
   "outputs": [],
   "source": [
    "from sklearn.cross_validation import train_test_split\n",
    "X_train, X_test, y_train, y_test = train_test_split(X,Y,test_size=0.2,random_state=4)"
   ]
  },
  {
   "cell_type": "code",
   "execution_count": 72,
   "metadata": {
    "collapsed": false
   },
   "outputs": [
    {
     "data": {
      "image/png": "[encoded data removed]",
      "text/plain": [
       "<matplotlib.figure.Figure at 0x243f1fe5278>"
      ]
     },
     "metadata": {},
     "output_type": "display_data"
    }
   ],
   "source": [
    "from sklearn.linear_model import LogisticRegression\n",
    "from sklearn.cross_validation import cross_val_score\n",
    "from sklearn import metrics\n",
    "\n",
    "model_LR= LogisticRegression()\n",
    "model_LR.fit(X_train,y_train)\n",
    "\n",
    "y_prob = model_LR.predict_proba(X_test)[:,1] # This will give you positive class prediction probabilities  \n",
    "y_pred = np.where(y_prob > 0.5, 1, 0) # This will threshold the probabilities to give class predictions.\n",
    "model_LR.score(X_test, y_pred)\n",
    "\n",
    "confusion_matrix=metrics.confusion_matrix(y_test,y_pred)\n",
    "\n",
    "auc_roc=metrics.roc_auc_score(y_test,y_pred)\n",
    "\n",
    "from sklearn.metrics import roc_curve, auc\n",
    "false_positive_rate, true_positive_rate, thresholds = roc_curve(y_test, y_prob)\n",
    "roc_auc = auc(false_positive_rate, true_positive_rate)\n",
    "\n",
    "plt.figure(figsize=(10,10))\n",
    "plt.title('Receiver Operating Characteristic')\n",
    "plt.plot(false_positive_rate,true_positive_rate, color='red',label = 'AUC = %0.2f' % roc_auc)\n",
    "plt.legend(loc = 'lower right')\n",
    "plt.plot([0, 1], [0, 1],linestyle='--')\n",
    "plt.axis('tight')\n",
    "plt.ylabel('True Positive Rate')\n",
    "plt.xlabel('False Positive Rate')\n",
    "plt.show()"
   ]
  },
  {
   "cell_type": "code",
   "execution_count": 26,
   "metadata": {
    "collapsed": false
   },
   "outputs": [
    {
     "name": "stdout",
     "output_type": "stream",
     "text": [
      "1.0 1.0\n"
     ]
    }
   ],
   "source": [
    "import numpy as np\n",
    "predictions = pd.Series(np.ones(loans.shape[0]))\n",
    "tp_filter = (predictions == 1) & (loans[\"loan_status\"] == 1)\n",
    "tp = len(predictions[tp_filter])\n",
    "\n",
    "tn_filter = (predictions == 0) & (loans[\"loan_status\"] == 0)\n",
    "tn = len(predictions[tn_filter])\n",
    "\n",
    "fp_filter = (predictions == 1) & (loans[\"loan_status\"] == 0)\n",
    "fp = len(predictions[fp_filter])\n",
    "\n",
    "fn_filter = (predictions == 0) & (loans[\"loan_status\"] == 1)\n",
    "fn = len(predictions[fn_filter])\n",
    "fpr = fp/(fp+tn)\n",
    "tpr = tp/(tp+fn)\n",
    "print(fpr,tpr)\n",
    "#correctly identified all of the loans but also did not correcly identify all 0's "
   ]
  },
  {
   "cell_type": "code",
   "execution_count": 36,
   "metadata": {
    "collapsed": false
   },
   "outputs": [
    {
     "name": "stdout",
     "output_type": "stream",
     "text": [
      "0.9989342806394316 0.9992048065029157\n"
     ]
    }
   ],
   "source": [
    "#logistic regression\n",
    "from sklearn.linear_model import LogisticRegression\n",
    "from sklearn.cross_validation import cross_val_predict, KFold\n",
    "from sklearn.preprocessing import StandardScaler\n",
    "lr = LogisticRegression()\n",
    "features = loans.drop('loan_status',axis=1)\n",
    "#features = StandardScaler().fit_transform(features_1)\n",
    "target = loans['loan_status']\n",
    "kf = KFold(features.shape[0], random_state=1)\n",
    "predictions = cross_val_predict(lr,features,target, cv=kf)\n",
    "predictions = pd.Series(predictions)\n",
    "\n",
    "tp_filter = (predictions == 1) & (target == 1)\n",
    "tp = len(predictions[tp_filter])\n",
    "\n",
    "tn_filter = (predictions == 0) & (target == 0)\n",
    "tn = len(predictions[tn_filter])\n",
    "\n",
    "fp_filter = (predictions == 1) & (target == 0)\n",
    "fp = len(predictions[fp_filter])\n",
    "\n",
    "fn_filter = (predictions == 0) & (target == 1)\n",
    "fn = len(predictions[fn_filter])\n",
    "\n",
    "fpr = fp/(fp+tn)\n",
    "tpr = tp/(tp+fn)\n",
    "print(fpr,tpr)"
   ]
  },
  {
   "cell_type": "code",
   "execution_count": 28,
   "metadata": {
    "collapsed": false
   },
   "outputs": [
    {
     "name": "stdout",
     "output_type": "stream",
     "text": [
      "0.61101243339254 0.6195735406726748\n"
     ]
    }
   ],
   "source": [
    "from sklearn.linear_model import LogisticRegression\n",
    "from sklearn.cross_validation import cross_val_predict, KFold\n",
    "lr = LogisticRegression(class_weight = 'balanced')\n",
    "#features.shape[0] - cross valudation across all rows in training set \n",
    "kf = KFold(features.shape[0], random_state=1)\n",
    "predictions = cross_val_predict(lr,features,target, cv=kf)\n",
    "predictions = pd.Series(predictions)\n",
    "\n",
    "tp_filter = (predictions == 1) & (target == 1)\n",
    "tp = len(predictions[tp_filter])\n",
    "\n",
    "tn_filter = (predictions == 0) & (target == 0)\n",
    "tn = len(predictions[tn_filter])\n",
    "\n",
    "fp_filter = (predictions == 1) & (target == 0)\n",
    "fp = len(predictions[fp_filter])\n",
    "\n",
    "fn_filter = (predictions == 0) & (target == 1)\n",
    "fn = len(predictions[fn_filter])\n",
    "\n",
    "fpr = fp/(fp+tn)\n",
    "tpr = tp/(tp+fn)\n",
    "print(fpr,tpr)"
   ]
  },
  {
   "cell_type": "code",
   "execution_count": 34,
   "metadata": {
    "collapsed": false
   },
   "outputs": [
    {
     "name": "stdout",
     "output_type": "stream",
     "text": [
      "0.19200710479573713 0.19276079401543264\n"
     ]
    }
   ],
   "source": [
    "from sklearn.linear_model import LogisticRegression\n",
    "from sklearn.cross_validation import cross_val_predict\n",
    "penalty = {\n",
    "    0:10,\n",
    "    1: 1\n",
    "}\n",
    "lr = LogisticRegression(class_weight=penalty)\n",
    "\n",
    "kf = KFold(features.shape[0], random_state=1)\n",
    "predictions = cross_val_predict(lr,features,target, cv=kf)\n",
    "predictions = pd.Series(predictions)\n",
    "\n",
    "tp_filter = (predictions == 1) & (target == 1)\n",
    "tp = len(predictions[tp_filter])\n",
    "\n",
    "tn_filter = (predictions == 0) & (target == 0)\n",
    "tn = len(predictions[tn_filter])\n",
    "\n",
    "fp_filter = (predictions == 1) & (target == 0)\n",
    "fp = len(predictions[fp_filter])\n",
    "\n",
    "fn_filter = (predictions == 0) & (target == 1)\n",
    "fn = len(predictions[fn_filter])\n",
    "\n",
    "fpr = fp/(fp+tn)\n",
    "tpr = tp/(tp+fn)\n",
    "print(fpr,tpr)"
   ]
  },
  {
   "cell_type": "code",
   "execution_count": 30,
   "metadata": {
    "collapsed": false
   },
   "outputs": [
    {
     "name": "stdout",
     "output_type": "stream",
     "text": [
      "0.9717584369449378 0.9716970018259998\n"
     ]
    }
   ],
   "source": [
    "from sklearn.ensemble import RandomForestClassifier\n",
    "from sklearn.cross_validation import cross_val_predict\n",
    "\n",
    "lr = RandomForestClassifier(random_state=1,class_weight='balanced')\n",
    "\n",
    "kf = KFold(features.shape[0], random_state=1)\n",
    "predictions = cross_val_predict(lr,features,target, cv=kf)\n",
    "predictions = pd.Series(predictions)\n",
    "\n",
    "tp_filter = (predictions == 1) & (target == 1)\n",
    "tp = len(predictions[tp_filter])\n",
    "\n",
    "tn_filter = (predictions == 0) & (target == 0)\n",
    "tn = len(predictions[tn_filter])\n",
    "\n",
    "fp_filter = (predictions == 1) & (target == 0)\n",
    "fp = len(predictions[fp_filter])\n",
    "\n",
    "fn_filter = (predictions == 0) & (target == 1)\n",
    "fn = len(predictions[fn_filter])\n",
    "\n",
    "fpr = fp/(fp+tn)\n",
    "tpr = tp/(tp+fn)\n",
    "print(fpr,tpr)"
   ]
  },
  {
   "cell_type": "code",
   "execution_count": null,
   "metadata": {
    "collapsed": true
   },
   "outputs": [],
   "source": []
  },
  {
   "cell_type": "code",
   "execution_count": null,
   "metadata": {
    "collapsed": true
   },
   "outputs": [],
   "source": []
  },
  {
   "cell_type": "code",
   "execution_count": null,
   "metadata": {
    "collapsed": true
   },
   "outputs": [],
   "source": []
  },
  {
   "cell_type": "code",
   "execution_count": null,
   "metadata": {
    "collapsed": true
   },
   "outputs": [],
   "source": []
  },
  {
   "cell_type": "code",
   "execution_count": null,
   "metadata": {
    "collapsed": true
   },
   "outputs": [],
   "source": []
  },
  {
   "cell_type": "code",
   "execution_count": null,
   "metadata": {
    "collapsed": true
   },
   "outputs": [],
   "source": []
  },
  {
   "cell_type": "code",
   "execution_count": null,
   "metadata": {
    "collapsed": true
   },
   "outputs": [],
   "source": []
  },
  {
   "cell_type": "code",
   "execution_count": null,
   "metadata": {
    "collapsed": true
   },
   "outputs": [],
   "source": []
  },
  {
   "cell_type": "code",
   "execution_count": null,
   "metadata": {
    "collapsed": true
   },
   "outputs": [],
   "source": []
  },
  {
   "cell_type": "code",
   "execution_count": null,
   "metadata": {
    "collapsed": true
   },
   "outputs": [],
   "source": []
  },
  {
   "cell_type": "code",
   "execution_count": null,
   "metadata": {
    "collapsed": true
   },
   "outputs": [],
   "source": []
  },
  {
   "cell_type": "code",
   "execution_count": null,
   "metadata": {
    "collapsed": true
   },
   "outputs": [],
   "source": []
  },
  {
   "cell_type": "code",
   "execution_count": null,
   "metadata": {
    "collapsed": true
   },
   "outputs": [],
   "source": []
  },
  {
   "cell_type": "code",
   "execution_count": null,
   "metadata": {
    "collapsed": true
   },
   "outputs": [],
   "source": []
  },
  {
   "cell_type": "code",
   "execution_count": null,
   "metadata": {
    "collapsed": true
   },
   "outputs": [],
   "source": []
  },
  {
   "cell_type": "code",
   "execution_count": null,
   "metadata": {
    "collapsed": true
   },
   "outputs": [],
   "source": []
  },
  {
   "cell_type": "code",
   "execution_count": null,
   "metadata": {
    "collapsed": true
   },
   "outputs": [],
   "source": []
  },
  {
   "cell_type": "code",
   "execution_count": null,
   "metadata": {
    "collapsed": true
   },
   "outputs": [],
   "source": []
  },
  {
   "cell_type": "code",
   "execution_count": null,
   "metadata": {
    "collapsed": true
   },
   "outputs": [],
   "source": []
  },
  {
   "cell_type": "code",
   "execution_count": null,
   "metadata": {
    "collapsed": true
   },
   "outputs": [],
   "source": []
  },
  {
   "cell_type": "code",
   "execution_count": null,
   "metadata": {
    "collapsed": true
   },
   "outputs": [],
   "source": []
  },
  {
   "cell_type": "code",
   "execution_count": null,
   "metadata": {
    "collapsed": true
   },
   "outputs": [],
   "source": []
  },
  {
   "cell_type": "code",
   "execution_count": null,
   "metadata": {
    "collapsed": true
   },
   "outputs": [],
   "source": []
  },
  {
   "cell_type": "code",
   "execution_count": null,
   "metadata": {
    "collapsed": true
   },
   "outputs": [],
   "source": []
  },
  {
   "cell_type": "code",
   "execution_count": null,
   "metadata": {
    "collapsed": true
   },
   "outputs": [],
   "source": []
  }
 ],
 "metadata": {
  "anaconda-cloud": {},
  "kernelspec": {
   "display_name": "Python [conda root]",
   "language": "python",
   "name": "conda-root-py"
  },
  "language_info": {
   "codemirror_mode": {
    "name": "ipython",
    "version": 3
   },
   "file_extension": ".py",
   "mimetype": "text/x-python",
   "name": "python",
   "nbconvert_exporter": "python",
   "pygments_lexer": "ipython3",
   "version": "3.5.2"
  }
 },
 "nbformat": 4,
 "nbformat_minor": 1
}
